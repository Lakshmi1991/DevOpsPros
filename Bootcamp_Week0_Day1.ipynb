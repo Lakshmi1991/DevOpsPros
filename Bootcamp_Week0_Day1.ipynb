{
  "nbformat": 4,
  "nbformat_minor": 0,
  "metadata": {
    "colab": {
      "name": "Bootcamp_Week0_Day1.ipynb",
      "provenance": [],
      "authorship_tag": "ABX9TyN9SQjrAxQqdx58A/AZ1aaS",
      "include_colab_link": true
    },
    "kernelspec": {
      "name": "python3",
      "display_name": "Python 3"
    }
  },
  "cells": [
    {
      "cell_type": "markdown",
      "metadata": {
        "id": "view-in-github",
        "colab_type": "text"
      },
      "source": [
        "<a href=\"https://colab.research.google.com/github/Lakshmi1991/Dphi_bootcamp/blob/master/Bootcamp_Week0_Day1.ipynb\" target=\"_parent\"><img src=\"https://colab.research.google.com/assets/colab-badge.svg\" alt=\"Open In Colab\"/></a>"
      ]
    },
    {
      "cell_type": "markdown",
      "metadata": {
        "id": "wT8L0XbFSsie",
        "colab_type": "text"
      },
      "source": [
        "# 1.Creating list1 with family members"
      ]
    },
    {
      "cell_type": "code",
      "metadata": {
        "id": "UpVE7T2lCBBr",
        "colab_type": "code",
        "colab": {}
      },
      "source": [
        "list1 = ['john','chan','yuen','matt']"
      ],
      "execution_count": 0,
      "outputs": []
    },
    {
      "cell_type": "markdown",
      "metadata": {
        "id": "HU-4gfQhTFB0",
        "colab_type": "text"
      },
      "source": [
        "#2. Print list1 values"
      ]
    },
    {
      "cell_type": "code",
      "metadata": {
        "id": "X_v1Lvt7Cum7",
        "colab_type": "code",
        "colab": {
          "base_uri": "https://localhost:8080/",
          "height": 35
        },
        "outputId": "cbb7926b-0e64-46c6-b3e9-2a8d8a96f6f4"
      },
      "source": [
        "print(\"the values in the list1 is: \", list1)"
      ],
      "execution_count": 3,
      "outputs": [
        {
          "output_type": "stream",
          "text": [
            "the values in the list1 is:  ['john', 'chan', 'yuen', 'matt']\n"
          ],
          "name": "stdout"
        }
      ]
    },
    {
      "cell_type": "markdown",
      "metadata": {
        "id": "08gxlKi5TOgm",
        "colab_type": "text"
      },
      "source": [
        "# 3.Retrive second element of the list1"
      ]
    },
    {
      "cell_type": "code",
      "metadata": {
        "id": "qEKFLQGSC9TF",
        "colab_type": "code",
        "colab": {
          "base_uri": "https://localhost:8080/",
          "height": 35
        },
        "outputId": "f7290eb3-87a5-4239-d8de-8bf52aefdb8b"
      },
      "source": [
        "print(\"the second element of list is: \", list1[1])"
      ],
      "execution_count": 4,
      "outputs": [
        {
          "output_type": "stream",
          "text": [
            "the second element of list is:  chan\n"
          ],
          "name": "stdout"
        }
      ]
    },
    {
      "cell_type": "markdown",
      "metadata": {
        "id": "0A1LDeWMTbZB",
        "colab_type": "text"
      },
      "source": [
        "#4. Change second value of the list1 and printing updated list1"
      ]
    },
    {
      "cell_type": "code",
      "metadata": {
        "id": "bkIAJB8cDZsV",
        "colab_type": "code",
        "colab": {}
      },
      "source": [
        "list1[1] = 'dhana'"
      ],
      "execution_count": 0,
      "outputs": []
    },
    {
      "cell_type": "code",
      "metadata": {
        "id": "Y9OGA0XGDZ_H",
        "colab_type": "code",
        "colab": {
          "base_uri": "https://localhost:8080/",
          "height": 35
        },
        "outputId": "cf942af6-fcc3-4168-c6d7-d45dfe5af23e"
      },
      "source": [
        "print(\"the values in the updated list1 is: \", list1)"
      ],
      "execution_count": 6,
      "outputs": [
        {
          "output_type": "stream",
          "text": [
            "the values in the updated list1 is:  ['john', 'dhana', 'yuen', 'matt']\n"
          ],
          "name": "stdout"
        }
      ]
    },
    {
      "cell_type": "markdown",
      "metadata": {
        "id": "D17TxkKvTrA_",
        "colab_type": "text"
      },
      "source": [
        "#5. Creating list of list2 contains name and age of family members"
      ]
    },
    {
      "cell_type": "code",
      "metadata": {
        "id": "PleOEgCTD81f",
        "colab_type": "code",
        "colab": {}
      },
      "source": [
        "list2 = [['john',29],['dhana',28],['yuen',27],['matt',26]]"
      ],
      "execution_count": 0,
      "outputs": []
    },
    {
      "cell_type": "code",
      "metadata": {
        "id": "nxa2B9lMDaCF",
        "colab_type": "code",
        "colab": {
          "base_uri": "https://localhost:8080/",
          "height": 35
        },
        "outputId": "d6a45053-28c8-4e47-c300-76bb280cac57"
      },
      "source": [
        "print(\"the list values in the list2 is: \", list2)"
      ],
      "execution_count": 8,
      "outputs": [
        {
          "output_type": "stream",
          "text": [
            "the list values in the list2 is:  [['john', 29], ['dhana', 28], ['yuen', 27], ['matt', 26]]\n"
          ],
          "name": "stdout"
        }
      ]
    },
    {
      "cell_type": "markdown",
      "metadata": {
        "id": "ivITK6oBUFTN",
        "colab_type": "text"
      },
      "source": [
        "# 6.Adding item 7000 in the given list3"
      ]
    },
    {
      "cell_type": "code",
      "metadata": {
        "id": "wdiTlgNODaHB",
        "colab_type": "code",
        "colab": {}
      },
      "source": [
        "list3 = [10,20,[300,400,[5000,6000],500],30,40]"
      ],
      "execution_count": 0,
      "outputs": []
    },
    {
      "cell_type": "code",
      "metadata": {
        "id": "3pKpEkvsGhK6",
        "colab_type": "code",
        "colab": {
          "base_uri": "https://localhost:8080/",
          "height": 35
        },
        "outputId": "f23e8592-55e6-4d4a-e4b9-3f4c233e2f15"
      },
      "source": [
        "print(\"the values in the list3 is: \", list3)"
      ],
      "execution_count": 15,
      "outputs": [
        {
          "output_type": "stream",
          "text": [
            "the values in the updated list3 is:  [10, 20, [300, 400, [5000, 6000], 500], 30, 40]\n"
          ],
          "name": "stdout"
        }
      ]
    },
    {
      "cell_type": "code",
      "metadata": {
        "id": "kK6kmYj5DaKP",
        "colab_type": "code",
        "colab": {}
      },
      "source": [
        "list3[2] = [300,400,[5000,6000,7000],500]"
      ],
      "execution_count": 0,
      "outputs": []
    },
    {
      "cell_type": "code",
      "metadata": {
        "id": "Et_ymYIXDaOi",
        "colab_type": "code",
        "colab": {
          "base_uri": "https://localhost:8080/",
          "height": 35
        },
        "outputId": "731774eb-25eb-4f8c-cba0-569b24c866ef"
      },
      "source": [
        "print(\"the values in the updated list3 is: \", list3)"
      ],
      "execution_count": 17,
      "outputs": [
        {
          "output_type": "stream",
          "text": [
            "the values in the updated list3 is:  [10, 20, [300, 400, [5000, 6000, 7000], 500], 30, 40]\n"
          ],
          "name": "stdout"
        }
      ]
    },
    {
      "cell_type": "markdown",
      "metadata": {
        "id": "AYG1gmOVUgat",
        "colab_type": "text"
      },
      "source": [
        "#7. Check if 20 exist in given list 4 ,number of its occurance and change value as 200 on its first occurance"
      ]
    },
    {
      "cell_type": "code",
      "metadata": {
        "id": "ClCnw-o-DaFh",
        "colab_type": "code",
        "colab": {}
      },
      "source": [
        "list4 = [5,10,15,20,25,50,20]"
      ],
      "execution_count": 0,
      "outputs": []
    },
    {
      "cell_type": "code",
      "metadata": {
        "id": "vNVjKaAoG5Xi",
        "colab_type": "code",
        "colab": {
          "base_uri": "https://localhost:8080/",
          "height": 35
        },
        "outputId": "bd3a3a82-de0b-4109-e4ad-d8af0a8de86a"
      },
      "source": [
        "if 20 in list4: print(\"the value occurs in the list4\" )\n",
        "else: print(\"the value donot exist in list4\")"
      ],
      "execution_count": 30,
      "outputs": [
        {
          "output_type": "stream",
          "text": [
            "the value occurs in the list4\n"
          ],
          "name": "stdout"
        }
      ]
    },
    {
      "cell_type": "code",
      "metadata": {
        "id": "C2W5t3pfJ2rG",
        "colab_type": "code",
        "colab": {
          "base_uri": "https://localhost:8080/",
          "height": 35
        },
        "outputId": "3d597b1b-a676-4ba4-985f-dd7a7be5ae53"
      },
      "source": [
        "print(\"the count of number 20  in the list: \", list4.count(20)"
      ],
      "execution_count": 33,
      "outputs": [
        {
          "output_type": "execute_result",
          "data": {
            "text/plain": [
              "2"
            ]
          },
          "metadata": {
            "tags": []
          },
          "execution_count": 33
        }
      ]
    },
    {
      "cell_type": "code",
      "metadata": {
        "id": "-0sJS7ABL1CD",
        "colab_type": "code",
        "colab": {
          "base_uri": "https://localhost:8080/",
          "height": 35
        },
        "outputId": "02d5ce4c-17ab-436a-bddf-09f52a9b351d"
      },
      "source": [
        "print(\"the index of first occurance of number 20 is: \",(list4.index(20))"
      ],
      "execution_count": 37,
      "outputs": [
        {
          "output_type": "stream",
          "text": [
            "3\n"
          ],
          "name": "stdout"
        }
      ]
    },
    {
      "cell_type": "code",
      "metadata": {
        "id": "tBcnFgM3O-9X",
        "colab_type": "code",
        "colab": {}
      },
      "source": [
        "list4[3] = 200"
      ],
      "execution_count": 0,
      "outputs": []
    },
    {
      "cell_type": "code",
      "metadata": {
        "id": "73F9CBVqPLuE",
        "colab_type": "code",
        "colab": {
          "base_uri": "https://localhost:8080/",
          "height": 35
        },
        "outputId": "9ae43d32-ec9f-46f1-c6ea-59fa99891cbe"
      },
      "source": [
        "print(\"the values in the updated list4 is: \", list4)"
      ],
      "execution_count": 39,
      "outputs": [
        {
          "output_type": "stream",
          "text": [
            "the values in the updated list4 is:  [5, 10, 15, 200, 25, 50, 20]\n"
          ],
          "name": "stdout"
        }
      ]
    },
    {
      "cell_type": "markdown",
      "metadata": {
        "id": "coxd_atFU9vA",
        "colab_type": "text"
      },
      "source": [
        "#9. Creating colours tuple and printing it"
      ]
    },
    {
      "cell_type": "code",
      "metadata": {
        "id": "mAkur74WQAVN",
        "colab_type": "code",
        "colab": {}
      },
      "source": [
        "colours = ('pink','red','orange','green','yellow')"
      ],
      "execution_count": 0,
      "outputs": []
    },
    {
      "cell_type": "code",
      "metadata": {
        "id": "muJNaUabQQnL",
        "colab_type": "code",
        "colab": {
          "base_uri": "https://localhost:8080/",
          "height": 35
        },
        "outputId": "84951f4c-823f-4ca5-a8bc-09f9342a3c63"
      },
      "source": [
        "print(\"the colours tuple is: \", colours)"
      ],
      "execution_count": 41,
      "outputs": [
        {
          "output_type": "stream",
          "text": [
            "the colours tuple is:  ('pink', 'red', 'orange', 'green', 'yellow')\n"
          ],
          "name": "stdout"
        }
      ]
    },
    {
      "cell_type": "markdown",
      "metadata": {
        "id": "sHIJhTGjVJjb",
        "colab_type": "text"
      },
      "source": [
        "#10. Packing and unpacking of tuple values"
      ]
    },
    {
      "cell_type": "code",
      "metadata": {
        "id": "GBBvnSDFQizn",
        "colab_type": "code",
        "colab": {}
      },
      "source": [
        "aTuple = (10,20,30,40)"
      ],
      "execution_count": 0,
      "outputs": []
    },
    {
      "cell_type": "code",
      "metadata": {
        "id": "Mgg9PMRIR6Lb",
        "colab_type": "code",
        "colab": {}
      },
      "source": [
        "(a,b,c,d)= aTuple"
      ],
      "execution_count": 0,
      "outputs": []
    },
    {
      "cell_type": "code",
      "metadata": {
        "id": "i6D9PbrrR_Gy",
        "colab_type": "code",
        "colab": {
          "base_uri": "https://localhost:8080/",
          "height": 35
        },
        "outputId": "d903da97-9a41-4d47-a33a-fe6e11019c15"
      },
      "source": [
        "print(\"the unpacked tuple value a: {},b: {},c: {},d: {}\".format (a,b,c,d))"
      ],
      "execution_count": 44,
      "outputs": [
        {
          "output_type": "stream",
          "text": [
            "the unpacked tuple value a: 10,b: 20,c: 30,d: 40\n"
          ],
          "name": "stdout"
        }
      ]
    }
  ]
}