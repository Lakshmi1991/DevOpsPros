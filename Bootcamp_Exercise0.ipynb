{
  "nbformat": 4,
  "nbformat_minor": 0,
  "metadata": {
    "colab": {
      "name": "Bootcamp_Exercise0.ipynb",
      "provenance": [],
      "authorship_tag": "ABX9TyOhZNzDj1B8kh3UtwFYwO9I",
      "include_colab_link": true
    },
    "kernelspec": {
      "name": "python3",
      "display_name": "Python 3"
    }
  },
  "cells": [
    {
      "cell_type": "markdown",
      "metadata": {
        "id": "view-in-github",
        "colab_type": "text"
      },
      "source": [
        "<a href=\"https://colab.research.google.com/github/Lakshmi1991/Dphi_bootcamp/blob/master/Bootcamp_Exercise0.ipynb\" target=\"_parent\"><img src=\"https://colab.research.google.com/assets/colab-badge.svg\" alt=\"Open In Colab\"/></a>"
      ]
    },
    {
      "cell_type": "code",
      "metadata": {
        "id": "VxiYcgs3ECju",
        "colab_type": "code",
        "outputId": "9766b6e1-8138-434e-9512-9248434f9ebe",
        "colab": {
          "base_uri": "https://localhost:8080/",
          "height": 35
        }
      },
      "source": [
        "print(\"Hello world\")"
      ],
      "execution_count": 0,
      "outputs": [
        {
          "output_type": "stream",
          "text": [
            "Hello world\n"
          ],
          "name": "stdout"
        }
      ]
    },
    {
      "cell_type": "markdown",
      "metadata": {
        "id": "sKwMZdEEFCTV",
        "colab_type": "text"
      },
      "source": [
        "# Addition of two numbers"
      ]
    },
    {
      "cell_type": "code",
      "metadata": {
        "id": "G9CBxDVpEmkr",
        "colab_type": "code",
        "colab": {}
      },
      "source": [
        "x = 5;\n",
        "y = 5"
      ],
      "execution_count": 0,
      "outputs": []
    },
    {
      "cell_type": "code",
      "metadata": {
        "id": "XxqAS09_Ez6Z",
        "colab_type": "code",
        "colab": {}
      },
      "source": [
        "z = x + y;"
      ],
      "execution_count": 0,
      "outputs": []
    },
    {
      "cell_type": "code",
      "metadata": {
        "id": "ZyB0xtCCE8Ub",
        "colab_type": "code",
        "outputId": "049b3909-a853-468a-f4dc-2c96b92923d7",
        "colab": {
          "base_uri": "https://localhost:8080/",
          "height": 35
        }
      },
      "source": [
        "z"
      ],
      "execution_count": 0,
      "outputs": [
        {
          "output_type": "execute_result",
          "data": {
            "text/plain": [
              "10"
            ]
          },
          "metadata": {
            "tags": []
          },
          "execution_count": 6
        }
      ]
    },
    {
      "cell_type": "markdown",
      "metadata": {
        "id": "jBzLIppmG_qc",
        "colab_type": "text"
      },
      "source": [
        "# Exercise 1 "
      ]
    },
    {
      "cell_type": "code",
      "metadata": {
        "id": "6zmh1KkhHHiQ",
        "colab_type": "code",
        "outputId": "0c4c1513-aed9-4274-e51c-47d65deb1e23",
        "colab": {
          "base_uri": "https://localhost:8080/",
          "height": 35
        }
      },
      "source": [
        "a = int(input(\"Enter a number\"))"
      ],
      "execution_count": 0,
      "outputs": [
        {
          "output_type": "stream",
          "text": [
            "Enter a number10\n"
          ],
          "name": "stdout"
        }
      ]
    },
    {
      "cell_type": "code",
      "metadata": {
        "id": "QkbE5EovJH8c",
        "colab_type": "code",
        "outputId": "6a09ed7a-5461-4edf-ad50-8aa60903cb5b",
        "colab": {
          "base_uri": "https://localhost:8080/",
          "height": 35
        }
      },
      "source": [
        "a"
      ],
      "execution_count": 0,
      "outputs": [
        {
          "output_type": "execute_result",
          "data": {
            "text/plain": [
              "10"
            ]
          },
          "metadata": {
            "tags": []
          },
          "execution_count": 11
        }
      ]
    },
    {
      "cell_type": "code",
      "metadata": {
        "id": "-uxW5XADJPe7",
        "colab_type": "code",
        "outputId": "bedd3520-26c1-4fd6-d624-73fc608cc0ae",
        "colab": {
          "base_uri": "https://localhost:8080/",
          "height": 35
        }
      },
      "source": [
        "a**2"
      ],
      "execution_count": 0,
      "outputs": [
        {
          "output_type": "execute_result",
          "data": {
            "text/plain": [
              "100"
            ]
          },
          "metadata": {
            "tags": []
          },
          "execution_count": 12
        }
      ]
    },
    {
      "cell_type": "markdown",
      "metadata": {
        "id": "m1hVmY4NT2if",
        "colab_type": "text"
      },
      "source": [
        "#String operation and slicing"
      ]
    },
    {
      "cell_type": "code",
      "metadata": {
        "id": "0dH4UUbFzP7D",
        "colab_type": "code",
        "colab": {}
      },
      "source": [
        "from google.colab import drive\n",
        "drive.mount('/content/drive')"
      ],
      "execution_count": 0,
      "outputs": []
    },
    {
      "cell_type": "code",
      "metadata": {
        "id": "4Sr6wW2VJ6zp",
        "colab_type": "code",
        "colab": {}
      },
      "source": [
        "Name = \"Program\""
      ],
      "execution_count": 0,
      "outputs": []
    },
    {
      "cell_type": "code",
      "metadata": {
        "id": "tjxpmoQhLx5W",
        "colab_type": "code",
        "outputId": "016a38c8-1da3-4aed-b298-661ab945346e",
        "colab": {
          "base_uri": "https://localhost:8080/",
          "height": 35
        }
      },
      "source": [
        "print(Name[2])"
      ],
      "execution_count": 0,
      "outputs": [
        {
          "output_type": "stream",
          "text": [
            "o\n"
          ],
          "name": "stdout"
        }
      ]
    },
    {
      "cell_type": "code",
      "metadata": {
        "id": "TpxjburkMCk6",
        "colab_type": "code",
        "outputId": "00b7f133-9621-4ad1-e68b-7e4934d5388b",
        "colab": {
          "base_uri": "https://localhost:8080/",
          "height": 35
        }
      },
      "source": [
        "print(Name[-5])"
      ],
      "execution_count": 0,
      "outputs": [
        {
          "output_type": "stream",
          "text": [
            "o\n"
          ],
          "name": "stdout"
        }
      ]
    },
    {
      "cell_type": "code",
      "metadata": {
        "id": "eE4eezFYMHsM",
        "colab_type": "code",
        "outputId": "25790351-c23f-438d-a191-3a4087465e31",
        "colab": {
          "base_uri": "https://localhost:8080/",
          "height": 35
        }
      },
      "source": [
        "type(Name)"
      ],
      "execution_count": 0,
      "outputs": [
        {
          "output_type": "execute_result",
          "data": {
            "text/plain": [
              "str"
            ]
          },
          "metadata": {
            "tags": []
          },
          "execution_count": 16
        }
      ]
    },
    {
      "cell_type": "code",
      "metadata": {
        "id": "dV1l_GclMRqm",
        "colab_type": "code",
        "outputId": "0e4d690e-9c44-48a3-aeb8-59071b2160fb",
        "colab": {
          "base_uri": "https://localhost:8080/",
          "height": 35
        }
      },
      "source": [
        "print(Name[3:7])"
      ],
      "execution_count": 0,
      "outputs": [
        {
          "output_type": "stream",
          "text": [
            "gram\n"
          ],
          "name": "stdout"
        }
      ]
    },
    {
      "cell_type": "code",
      "metadata": {
        "id": "pldLywrBMakZ",
        "colab_type": "code",
        "outputId": "21594d89-a0e0-4cae-8203-3bb689254eb5",
        "colab": {
          "base_uri": "https://localhost:8080/",
          "height": 35
        }
      },
      "source": [
        "print(Name[-4:])"
      ],
      "execution_count": 0,
      "outputs": [
        {
          "output_type": "stream",
          "text": [
            "gram\n"
          ],
          "name": "stdout"
        }
      ]
    },
    {
      "cell_type": "code",
      "metadata": {
        "id": "T4QlgPXuOYwR",
        "colab_type": "code",
        "outputId": "305274da-8462-49b6-9165-756ed1625204",
        "colab": {
          "base_uri": "https://localhost:8080/",
          "height": 35
        }
      },
      "source": [
        "Name.islower()"
      ],
      "execution_count": 0,
      "outputs": [
        {
          "output_type": "execute_result",
          "data": {
            "text/plain": [
              "False"
            ]
          },
          "metadata": {
            "tags": []
          },
          "execution_count": 37
        }
      ]
    },
    {
      "cell_type": "markdown",
      "metadata": {
        "id": "uPOGeANLT99P",
        "colab_type": "text"
      },
      "source": [
        "# Printing multiple variable or arguments using tuple,dictionary, .format "
      ]
    },
    {
      "cell_type": "code",
      "metadata": {
        "id": "UbEa1nCePLUO",
        "colab_type": "code",
        "colab": {}
      },
      "source": [
        "firstname = \"Dhanalakshmi\""
      ],
      "execution_count": 0,
      "outputs": []
    },
    {
      "cell_type": "code",
      "metadata": {
        "id": "N8xgjrGMPLZy",
        "colab_type": "code",
        "colab": {}
      },
      "source": [
        "lastname = \"Papaiah\""
      ],
      "execution_count": 0,
      "outputs": []
    },
    {
      "cell_type": "code",
      "metadata": {
        "id": "1y_apBH9PLeG",
        "colab_type": "code",
        "outputId": "479166b6-5021-4c66-db6d-ef1dad6478f9",
        "colab": {
          "base_uri": "https://localhost:8080/",
          "height": 35
        }
      },
      "source": [
        "print(\"Hello %s %s ! you just delved in python\" %(firstname,lastname))"
      ],
      "execution_count": 0,
      "outputs": [
        {
          "output_type": "stream",
          "text": [
            "Hello Dhanalakshmi  Papaiah ! you just delved in python\n"
          ],
          "name": "stdout"
        }
      ]
    },
    {
      "cell_type": "code",
      "metadata": {
        "id": "60D5q3-xRzSX",
        "colab_type": "code",
        "outputId": "9aa43056-d6d1-4774-8829-1da4d88435f9",
        "colab": {
          "base_uri": "https://localhost:8080/",
          "height": 35
        }
      },
      "source": [
        "print(\"Hello {} {} ! you just delved in python\" .format(firstname,lastname))"
      ],
      "execution_count": 0,
      "outputs": [
        {
          "output_type": "stream",
          "text": [
            "Hello Dhanalakshmi Papaiah ! you just delved in python\n"
          ],
          "name": "stdout"
        }
      ]
    },
    {
      "cell_type": "code",
      "metadata": {
        "id": "Zq7gKkCMP1vW",
        "colab_type": "code",
        "outputId": "34b57369-a333-40e2-d762-b6a29a7c9333",
        "colab": {
          "base_uri": "https://localhost:8080/",
          "height": 35
        }
      },
      "source": [
        "print(\"Hello %(a)s %(b)s ! you just delved in python\" %{'a':firstname,'b':lastname})"
      ],
      "execution_count": 0,
      "outputs": [
        {
          "output_type": "stream",
          "text": [
            "Hello Dhanalakshmi Papaiah ! you just delved in python\n"
          ],
          "name": "stdout"
        }
      ]
    },
    {
      "cell_type": "code",
      "metadata": {
        "id": "y0kkFpgBSuXe",
        "colab_type": "code",
        "outputId": "8a48219b-b921-4abe-f93a-9cee61625de4",
        "colab": {
          "base_uri": "https://localhost:8080/",
          "height": 35
        }
      },
      "source": [
        "print(\"Hello\", firstname ,lastname, \"! you just delved in python\",sep =\" \")"
      ],
      "execution_count": 0,
      "outputs": [
        {
          "output_type": "stream",
          "text": [
            "Hello Dhanalakshmi Papaiah ! you just delved in python\n"
          ],
          "name": "stdout"
        }
      ]
    },
    {
      "cell_type": "markdown",
      "metadata": {
        "id": "tw46lE9tyzKH",
        "colab_type": "text"
      },
      "source": [
        "#Practice"
      ]
    },
    {
      "cell_type": "code",
      "metadata": {
        "id": "7-NwgzohfEPY",
        "colab_type": "code",
        "colab": {}
      },
      "source": [
        "x = 36/4*(3+2)*4+2"
      ],
      "execution_count": 0,
      "outputs": []
    },
    {
      "cell_type": "code",
      "metadata": {
        "id": "yUkonNy7frPz",
        "colab_type": "code",
        "colab": {
          "base_uri": "https://localhost:8080/",
          "height": 35
        },
        "outputId": "ac9ab0e0-699d-4dcb-a85b-a223d007c21e"
      },
      "source": [
        "x"
      ],
      "execution_count": 2,
      "outputs": [
        {
          "output_type": "execute_result",
          "data": {
            "text/plain": [
              "182.0"
            ]
          },
          "metadata": {
            "tags": []
          },
          "execution_count": 2
        }
      ]
    },
    {
      "cell_type": "code",
      "metadata": {
        "id": "EScZ01D_f3Zx",
        "colab_type": "code",
        "colab": {
          "base_uri": "https://localhost:8080/",
          "height": 35
        },
        "outputId": "5950db33-2b4d-461d-9fa0-a84713a76a40"
      },
      "source": [
        "2*2**3"
      ],
      "execution_count": 4,
      "outputs": [
        {
          "output_type": "execute_result",
          "data": {
            "text/plain": [
              "16"
            ]
          },
          "metadata": {
            "tags": []
          },
          "execution_count": 4
        }
      ]
    },
    {
      "cell_type": "code",
      "metadata": {
        "id": "KvCcoXx6gT1o",
        "colab_type": "code",
        "colab": {}
      },
      "source": [
        "s = 7"
      ],
      "execution_count": 0,
      "outputs": []
    },
    {
      "cell_type": "code",
      "metadata": {
        "id": "7N8LRJ5LgX85",
        "colab_type": "code",
        "colab": {
          "base_uri": "https://localhost:8080/",
          "height": 35
        },
        "outputId": "826ca42f-aa53-4a6f-f332-715dd688873f"
      },
      "source": [
        "type(s)"
      ],
      "execution_count": 10,
      "outputs": [
        {
          "output_type": "execute_result",
          "data": {
            "text/plain": [
              "int"
            ]
          },
          "metadata": {
            "tags": []
          },
          "execution_count": 10
        }
      ]
    },
    {
      "cell_type": "code",
      "metadata": {
        "id": "t9KgjSxagyo3",
        "colab_type": "code",
        "colab": {}
      },
      "source": [
        "k= \"   hell  tea  \".strip()"
      ],
      "execution_count": 0,
      "outputs": []
    },
    {
      "cell_type": "code",
      "metadata": {
        "id": "56RMOyIijBGC",
        "colab_type": "code",
        "colab": {
          "base_uri": "https://localhost:8080/",
          "height": 35
        },
        "outputId": "9de6cc0e-16bd-4c4a-e701-85f4e673f4c5"
      },
      "source": [
        "k.upper()"
      ],
      "execution_count": 20,
      "outputs": [
        {
          "output_type": "execute_result",
          "data": {
            "text/plain": [
              "'HELL  TEA'"
            ]
          },
          "metadata": {
            "tags": []
          },
          "execution_count": 20
        }
      ]
    }
  ]
}